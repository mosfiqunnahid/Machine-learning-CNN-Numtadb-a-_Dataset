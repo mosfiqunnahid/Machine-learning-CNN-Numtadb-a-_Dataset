{
  "nbformat": 4,
  "nbformat_minor": 0,
  "metadata": {
    "colab": {
      "name": "CNN-Numtadb(a)_Dataset.ipynb",
      "provenance": []
    },
    "kernelspec": {
      "name": "python3",
      "display_name": "Python 3"
    },
    "accelerator": "GPU"
  },
  "cells": [
    {
      "cell_type": "code",
      "metadata": {
        "id": "bMjyJVUIFDHS",
        "colab_type": "code",
        "colab": {
          "base_uri": "https://localhost:8080/",
          "height": 34
        },
        "outputId": "b8c838ba-c18c-4667-9966-18ff705559ef"
      },
      "source": [
        "import cv2\n",
        "import keras\n",
        "import numpy as np\n",
        "import pandas as pd\n",
        "from keras import Sequential\n",
        "from keras.layers import Dense\n",
        "import matplotlib.pyplot as plt\n",
        "from keras.models import Sequential\n",
        "from keras.utils import to_categorical\n",
        "from sklearn.model_selection import train_test_split\n",
        "from keras.layers import Conv2D, MaxPooling2D, Flatten, Dropout, Dense"
      ],
      "execution_count": null,
      "outputs": [
        {
          "output_type": "stream",
          "text": [
            "Using TensorFlow backend.\n"
          ],
          "name": "stderr"
        }
      ]
    },
    {
      "cell_type": "code",
      "metadata": {
        "id": "uTn4fwVHFPRQ",
        "colab_type": "code",
        "colab": {}
      },
      "source": [
        "x = np.load('/content/drive/My Drive/LICT training/Mosfiqun Nahid Hassan/Preprocessing_Data( Jupyter)/numta_ax.npy')/255.0\n",
        "y = np.load('/content/drive/My Drive/LICT training/Mosfiqun Nahid Hassan/Preprocessing_Data( Jupyter)/numta_ay.npy')"
      ],
      "execution_count": null,
      "outputs": []
    },
    {
      "cell_type": "code",
      "metadata": {
        "id": "9PZMugmiFPc9",
        "colab_type": "code",
        "colab": {}
      },
      "source": [
        "x = x.reshape(-1,28,28,1)\n",
        "y = to_categorical(y)"
      ],
      "execution_count": null,
      "outputs": []
    },
    {
      "cell_type": "code",
      "metadata": {
        "id": "pVx52DW_FPql",
        "colab_type": "code",
        "colab": {
          "base_uri": "https://localhost:8080/",
          "height": 34
        },
        "outputId": "52de3c13-676c-4dc7-b678-29f7c1575a0d"
      },
      "source": [
        "x.shape"
      ],
      "execution_count": null,
      "outputs": [
        {
          "output_type": "execute_result",
          "data": {
            "text/plain": [
              "(19702, 28, 28, 1)"
            ]
          },
          "metadata": {
            "tags": []
          },
          "execution_count": 4
        }
      ]
    },
    {
      "cell_type": "code",
      "metadata": {
        "id": "QierOjI7FPwe",
        "colab_type": "code",
        "colab": {
          "base_uri": "https://localhost:8080/",
          "height": 34
        },
        "outputId": "4dcee561-b63f-4fd2-a094-545cce4c6fc6"
      },
      "source": [
        "y.shape"
      ],
      "execution_count": null,
      "outputs": [
        {
          "output_type": "execute_result",
          "data": {
            "text/plain": [
              "(19702, 10)"
            ]
          },
          "metadata": {
            "tags": []
          },
          "execution_count": 5
        }
      ]
    },
    {
      "cell_type": "code",
      "metadata": {
        "id": "lb789YQeFPuU",
        "colab_type": "code",
        "colab": {}
      },
      "source": [
        "model = Sequential()\n",
        "model.add(Conv2D(32, (5, 5), activation='relu', input_shape=(28, 28, 1)))\n",
        "model.add(Conv2D(64, (3, 3), activation='relu'))\n",
        "model.add(MaxPooling2D((2, 2)))\n",
        "model.add(Dropout(0.25))\n",
        "model.add(Dense(500, activation='relu'))\n",
        "model.add(Dense(250, activation='relu'))\n",
        "model.add(Flatten())\n",
        "model.add(Dense(128, activation='relu'))\n",
        "model.add(Dense(64, activation='relu'))\n",
        "model.add(Dense(10, activation='softmax'))\n",
        "model.compile(optimizer='adam', loss='categorical_crossentropy', metrics=['accuracy'])"
      ],
      "execution_count": null,
      "outputs": []
    },
    {
      "cell_type": "code",
      "metadata": {
        "id": "fvMIphUSFPoB",
        "colab_type": "code",
        "colab": {
          "base_uri": "https://localhost:8080/",
          "height": 493
        },
        "outputId": "77750681-ced5-4b30-dddc-a0591d0862a4"
      },
      "source": [
        "model.summary()"
      ],
      "execution_count": null,
      "outputs": [
        {
          "output_type": "stream",
          "text": [
            "Model: \"sequential_1\"\n",
            "_________________________________________________________________\n",
            "Layer (type)                 Output Shape              Param #   \n",
            "=================================================================\n",
            "conv2d_1 (Conv2D)            (None, 24, 24, 32)        832       \n",
            "_________________________________________________________________\n",
            "conv2d_2 (Conv2D)            (None, 22, 22, 64)        18496     \n",
            "_________________________________________________________________\n",
            "max_pooling2d_1 (MaxPooling2 (None, 11, 11, 64)        0         \n",
            "_________________________________________________________________\n",
            "dropout_1 (Dropout)          (None, 11, 11, 64)        0         \n",
            "_________________________________________________________________\n",
            "dense_1 (Dense)              (None, 11, 11, 500)       32500     \n",
            "_________________________________________________________________\n",
            "dense_2 (Dense)              (None, 11, 11, 250)       125250    \n",
            "_________________________________________________________________\n",
            "flatten_1 (Flatten)          (None, 30250)             0         \n",
            "_________________________________________________________________\n",
            "dense_3 (Dense)              (None, 128)               3872128   \n",
            "_________________________________________________________________\n",
            "dense_4 (Dense)              (None, 64)                8256      \n",
            "_________________________________________________________________\n",
            "dense_5 (Dense)              (None, 10)                650       \n",
            "=================================================================\n",
            "Total params: 4,058,112\n",
            "Trainable params: 4,058,112\n",
            "Non-trainable params: 0\n",
            "_________________________________________________________________\n"
          ],
          "name": "stdout"
        }
      ]
    },
    {
      "cell_type": "code",
      "metadata": {
        "id": "8YmjGHL5FPmQ",
        "colab_type": "code",
        "colab": {
          "base_uri": "https://localhost:8080/",
          "height": 734
        },
        "outputId": "1cfaee32-c468-4619-b5fa-aa518a7c0c11"
      },
      "source": [
        "history = model.fit(x, y, validation_split=0.2, epochs=20, batch_size=150)"
      ],
      "execution_count": null,
      "outputs": [
        {
          "output_type": "stream",
          "text": [
            "Train on 15761 samples, validate on 3941 samples\n",
            "Epoch 1/20\n",
            "15761/15761 [==============================] - 8s 523us/step - loss: 2.1492 - accuracy: 0.1932 - val_loss: 1.9238 - val_accuracy: 0.3250\n",
            "Epoch 2/20\n",
            "15761/15761 [==============================] - 2s 115us/step - loss: 1.4321 - accuracy: 0.5064 - val_loss: 1.1679 - val_accuracy: 0.5993\n",
            "Epoch 3/20\n",
            "15761/15761 [==============================] - 2s 115us/step - loss: 0.9904 - accuracy: 0.6602 - val_loss: 0.8649 - val_accuracy: 0.6892\n",
            "Epoch 4/20\n",
            "15761/15761 [==============================] - 2s 116us/step - loss: 0.7141 - accuracy: 0.7588 - val_loss: 0.6340 - val_accuracy: 0.7831\n",
            "Epoch 5/20\n",
            "15761/15761 [==============================] - 2s 112us/step - loss: 0.4813 - accuracy: 0.8354 - val_loss: 0.4759 - val_accuracy: 0.8412\n",
            "Epoch 6/20\n",
            "15761/15761 [==============================] - 2s 115us/step - loss: 0.4003 - accuracy: 0.8638 - val_loss: 0.4013 - val_accuracy: 0.8640\n",
            "Epoch 7/20\n",
            "15761/15761 [==============================] - 2s 114us/step - loss: 0.3419 - accuracy: 0.8815 - val_loss: 0.3738 - val_accuracy: 0.8769\n",
            "Epoch 8/20\n",
            "15761/15761 [==============================] - 2s 112us/step - loss: 0.3058 - accuracy: 0.8948 - val_loss: 0.3725 - val_accuracy: 0.8724\n",
            "Epoch 9/20\n",
            "15761/15761 [==============================] - 2s 110us/step - loss: 0.2486 - accuracy: 0.9129 - val_loss: 0.3719 - val_accuracy: 0.8828\n",
            "Epoch 10/20\n",
            "15761/15761 [==============================] - 2s 109us/step - loss: 0.2137 - accuracy: 0.9260 - val_loss: 0.3544 - val_accuracy: 0.9000\n",
            "Epoch 11/20\n",
            "15761/15761 [==============================] - 2s 112us/step - loss: 0.1800 - accuracy: 0.9372 - val_loss: 0.3469 - val_accuracy: 0.8995\n",
            "Epoch 12/20\n",
            "15761/15761 [==============================] - 2s 111us/step - loss: 0.1639 - accuracy: 0.9416 - val_loss: 0.3702 - val_accuracy: 0.8977\n",
            "Epoch 13/20\n",
            "15761/15761 [==============================] - 2s 114us/step - loss: 0.1484 - accuracy: 0.9474 - val_loss: 0.3623 - val_accuracy: 0.9013\n",
            "Epoch 14/20\n",
            "15761/15761 [==============================] - 2s 111us/step - loss: 0.1437 - accuracy: 0.9494 - val_loss: 0.4284 - val_accuracy: 0.8866\n",
            "Epoch 15/20\n",
            "15761/15761 [==============================] - 2s 112us/step - loss: 0.1329 - accuracy: 0.9533 - val_loss: 0.3528 - val_accuracy: 0.9114\n",
            "Epoch 16/20\n",
            "15761/15761 [==============================] - 2s 111us/step - loss: 0.1482 - accuracy: 0.9474 - val_loss: 0.5050 - val_accuracy: 0.8409\n",
            "Epoch 17/20\n",
            "15761/15761 [==============================] - 2s 110us/step - loss: 0.1747 - accuracy: 0.9385 - val_loss: 0.3527 - val_accuracy: 0.8988\n",
            "Epoch 18/20\n",
            "15761/15761 [==============================] - 2s 110us/step - loss: 0.1141 - accuracy: 0.9612 - val_loss: 0.3632 - val_accuracy: 0.9094\n",
            "Epoch 19/20\n",
            "15761/15761 [==============================] - 2s 109us/step - loss: 0.0952 - accuracy: 0.9670 - val_loss: 0.3576 - val_accuracy: 0.9074\n",
            "Epoch 20/20\n",
            "15761/15761 [==============================] - 2s 110us/step - loss: 0.0903 - accuracy: 0.9678 - val_loss: 0.3747 - val_accuracy: 0.9112\n"
          ],
          "name": "stdout"
        }
      ]
    },
    {
      "cell_type": "code",
      "metadata": {
        "id": "OFAufDsIFPjp",
        "colab_type": "code",
        "colab": {
          "base_uri": "https://localhost:8080/",
          "height": 573
        },
        "outputId": "fe4fbd26-25c6-419f-8e9d-0bc1d7d9e5e0"
      },
      "source": [
        "plt.plot(history.history['loss'])\n",
        "plt.plot(history.history['val_loss'])\n",
        "plt.title('Model loss')\n",
        "plt.ylabel('Loss')\n",
        "plt.xlabel('Epoch')\n",
        "plt.legend(['Train', 'Test'], loc='upper left')\n",
        "plt.show()\n",
        "\n",
        "plt.plot(history.history['accuracy'])\n",
        "plt.plot(history.history['val_accuracy'])\n",
        "plt.title('Model acc')\n",
        "plt.ylabel('acc')\n",
        "plt.xlabel('Epoch')\n",
        "plt.legend(['Train', 'Test'], loc='upper left')\n",
        "plt.show()"
      ],
      "execution_count": null,
      "outputs": [
        {
          "output_type": "display_data",
          "data": {
            "image/png": "[encoded data removed]",
            "text/plain": [
              "<Figure size 432x288 with 1 Axes>"
            ]
          },
          "metadata": {
            "tags": [],
            "needs_background": "light"
          }
        },
        {
          "output_type": "display_data",
          "data": {
            "image/png": "[encoded data removed]",
            "text/plain": [
              "<Figure size 432x288 with 1 Axes>"
            ]
          },
          "metadata": {
            "tags": [],
            "needs_background": "light"
          }
        }
      ]
    },
    {
      "cell_type": "code",
      "metadata": {
        "id": "BigR3tqIFPgR",
        "colab_type": "code",
        "colab": {}
      },
      "source": [
        "model.save_weights('val_accuracy_91.h5')"
      ],
      "execution_count": null,
      "outputs": []
    },
    {
      "cell_type": "code",
      "metadata": {
        "id": "9dOLN6JoFPb0",
        "colab_type": "code",
        "colab": {}
      },
      "source": [
        "all_img = []\n",
        "for i in range(0,10):\n",
        "  img1 = cv2.imread(str(i)+'.jpg',0)\n",
        "  (thresh, im_bw) = cv2.threshold(img1, 128, 255, cv2.THRESH_BINARY | cv2.THRESH_OTSU)\n",
        "  inv = cv2.bitwise_not(im_bw)\n",
        "  all_img.append(cv2.resize(inv, (28,28)))"
      ],
      "execution_count": null,
      "outputs": []
    },
    {
      "cell_type": "code",
      "metadata": {
        "id": "2KigM6G3FPaN",
        "colab_type": "code",
        "colab": {}
      },
      "source": [
        "all_img = np.array(all_img)"
      ],
      "execution_count": null,
      "outputs": []
    },
    {
      "cell_type": "code",
      "metadata": {
        "id": "j5pUt-YvFPVo",
        "colab_type": "code",
        "colab": {
          "base_uri": "https://localhost:8080/",
          "height": 240
        },
        "outputId": "58f92b79-1585-41b7-f506-3c82a09715d1"
      },
      "source": [
        "for i in range(1,10):\n",
        "  plt.subplot(2,5,i)\n",
        "  plt.imshow(all_img[i-1])\n",
        "  plt.title(np.argmax(model.predict(np.reshape(all_img[i-1],(-1,28,28,1)))))"
      ],
      "execution_count": null,
      "outputs": [
        {
          "output_type": "display_data",
          "data": {
            "image/png": "[encoded data removed]",
            "text/plain": [
              "<Figure size 432x288 with 9 Axes>"
            ]
          },
          "metadata": {
            "tags": [],
            "needs_background": "light"
          }
        }
      ]
    }
  ]
}